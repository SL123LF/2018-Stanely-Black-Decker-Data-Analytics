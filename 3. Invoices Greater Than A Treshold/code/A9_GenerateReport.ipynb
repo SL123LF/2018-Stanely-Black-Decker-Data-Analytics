{
 "cells": [
  {
   "cell_type": "markdown",
   "metadata": {},
   "source": [
    "## Analytic 9 Code\n",
    "\n",
    "#### OPIM5770 | Fall 2018 | Team 4\n",
    "\n",
    "###### This notebook contains code to generate report for analytic 9. Designed by Team 4."
   ]
  },
  {
   "cell_type": "code",
   "execution_count": 1,
   "metadata": {},
   "outputs": [],
   "source": [
    "# Import required modules\n",
    "import pandas as pd\n",
    "import numpy as np\n",
    "import os"
   ]
  },
  {
   "cell_type": "code",
   "execution_count": 2,
   "metadata": {},
   "outputs": [],
   "source": [
    "#### ESTABLISH USER THRESHOLD FOR CUTOFF OF INTEREST\n",
    "RISK_CUTOFF = input(\"Enter any whole digit. The resulting report will be based on invoices above this threshold.\")"
   ]
  },
  {
   "cell_type": "code",
   "execution_count": 3,
   "metadata": {},
   "outputs": [],
   "source": [
    "# Load the BSAK_BKPF (Note: with date parsing enabled, may take some time to complete)\n",
    "parse_dates = [ 'Document_Date_in_Document'\n",
    "               ,'Clearing_Date'\n",
    "               ,'Day_On_Which_Accounting_Document_Was_Entered']\n",
    "\n",
    "BSAK_BKPF_DF = pd.read_csv(r'./../../src/BSAK_BKPF.csv' \n",
    "                           , sep=\"|\"\n",
    "                           , quotechar=\"'\"\n",
    "                           , low_memory=False\n",
    "                           , encoding='latin1'\n",
    "                           , usecols = [ \n",
    "                                     'Company_Code',\n",
    "                                     'Account_Number_of_Vendor_or_Creditor',\n",
    "                                     'Reference_Document_Number',\n",
    "                                     'Accounting_Document_Number',\n",
    "                                     'Document_Type',\n",
    "                                     'Number_of_Line_Item_Within_Accounting_Document',\n",
    "                                     'Document_Number_of_the_Clearing_Document',\n",
    "                                     'Reference_Document_Number',\n",
    "                                     'Fiscal_Year',\n",
    "                                     'Document_Date_in_Document',\n",
    "                                     'Clearing_Date',\n",
    "                                     'Day_On_Which_Accounting_Document_Was_Entered',\n",
    "                                     'Debit_Credit_Indicator',\n",
    "                                     'Currency_Key',\n",
    "                                     'Amount_in_Document_Currency',\n",
    "                                     'Amount_in_Local_Currency',\n",
    "                                     'Reverse_Document_Number'\n",
    "                                     ]\n",
    "                           , dtype = { \n",
    "                                     'Company_Code': str,\n",
    "                                     'Account_Number_of_Vendor_or_Creditor': str,\n",
    "                                     'Reference_Document_Number': str,\n",
    "                                     'Accounting_Document_Number': str,\n",
    "                                     'Document_Type': str, \n",
    "                                     'Number_of_Line_Item_Within_Accounting_Document':int,\n",
    "                                     'Document_Number_of_the_Clearing_Document': str,\n",
    "                                     'Reference_Document_Number':str,\n",
    "                                     'Fiscal_Year':int,\n",
    "                                     'Document_Date_in_Document':str, # REQUIRES DATE PARSING\n",
    "                                     'Clearing_Date': str, # REQUIRES DATE PARSING\n",
    "                                     'Day_On_Which_Accounting_Document_Was_Entered': str, #REQUIRES DATE PARSING\n",
    "                                     'Debit_Credit_Indicator': str,\n",
    "                                     'Currency_Key':str,\n",
    "                                     'Amount_in_Document_Currency': float,\n",
    "                                     'Amount_in_Local_Currency':float,\n",
    "                                     'Reverse_Document_Number':str\n",
    "                                   }\n",
    "                          , parse_dates=parse_dates)\n",
    "\n",
    "BSAK_BKPF_DF.rename(columns=\n",
    "          {\n",
    "              'Company_Code': 'COMPANY_CODE',\n",
    "              'Account_Number_of_Vendor_or_Creditor': 'VENDOR_ID',\n",
    "              'Reference_Document_Number': 'VENDOR_INVOICE_NUMBER',\n",
    "              'Accounting_Document_Number': 'ACCOUNTING_DOC_NUM',\n",
    "              'Document_Type': 'DOCUMENT_TYPE',\n",
    "              'Number_of_Line_Item_Within_Accounting_Document':'LINE_ITEM_ACCT_DOC_NUM',\n",
    "              'Document_Number_of_the_Clearing_Document':'CLEARING_DOC_NUM',\n",
    "              'Reference_Document_Number': 'REFERENCE_DOC_NBR',\n",
    "              'Fiscal_Year': 'FISCAL_YEAR',\n",
    "              'Document_Date_in_Document': 'DOCUMENT_DATE',\n",
    "              'Clearing_Date': 'CLEARING_DATE',\n",
    "              'Day_On_Which_Accounting_Document_Was_Entered': 'DAY_DOC_ENTERED',\n",
    "              'Debit_Credit_Indicator': 'DR_CR_INDICATOR',\n",
    "              'Currency_Key': 'DOC_CURRENCY_INDICATOR',\n",
    "              'Amount_in_Document_Currency': 'INVOICE_AMT_DOC_CURRENCY',\n",
    "              'Amount_in_Local_Currency': 'INVOICE_AMT_REPORT_CURRENCY',\n",
    "              'Reverse_Document_Number': 'REVERSE_DOC_NBR',\n",
    "          }, inplace=True)"
   ]
  },
  {
   "cell_type": "code",
   "execution_count": 11,
   "metadata": {},
   "outputs": [],
   "source": [
    "# Filter out unnecessary data types\n",
    "BSAK_BKPF_DF = BSAK_BKPF_DF[BSAK_BKPF_DF['DOCUMENT_TYPE'] != 'ZP']\n",
    "BSAK_BKPF_DF = BSAK_BKPF_DF[BSAK_BKPF_DF['DOCUMENT_TYPE'] != 'KZ']"
   ]
  },
  {
   "cell_type": "code",
   "execution_count": 12,
   "metadata": {},
   "outputs": [],
   "source": [
    "# Load the T001 dataframe\n",
    "T001_DF = pd.read_csv(r'./../../src/T001.csv',\n",
    "                     usecols = [ 'Company_Code', \n",
    "                                 'Name_of_Company_Code_or_Company',\n",
    "                                 'Currency_Key'],\n",
    "                     dtype = {  'Company Code': str,\n",
    "                                 'Name_of_Company_Code_or_Company': str ,\n",
    "                                 'Currency_Key': str\n",
    "                              }\n",
    "                     )\n",
    "\n",
    "T001_DF = T001_DF.rename(columns= {\n",
    "                    'Company_Code': 'COMPANY_CODE',\n",
    "                    'Name_of_Company_Code_or_Company': 'COMPANY_NAME',\n",
    "                    'Currency_Key': 'REPORT_CURRENCY_INDICATOR',\n",
    "                    })"
   ]
  },
  {
   "cell_type": "code",
   "execution_count": 13,
   "metadata": {},
   "outputs": [],
   "source": [
    "# Perform join operation\n",
    "joinDF = pd.merge(BSAK_BKPF_DF,\n",
    "                  T001_DF,\n",
    "                 left_on='COMPANY_CODE',\n",
    "                 right_on='COMPANY_CODE',\n",
    "                 how='left')"
   ]
  },
  {
   "cell_type": "code",
   "execution_count": 14,
   "metadata": {},
   "outputs": [],
   "source": [
    "# Add requested computed fields\n",
    "joinDF['DAY_OF_WEEK'] = joinDF['DAY_DOC_ENTERED'].dt.weekday"
   ]
  },
  {
   "cell_type": "code",
   "execution_count": 15,
   "metadata": {},
   "outputs": [],
   "source": [
    "# Filter the result based on the users selection\n",
    "report = joinDF[joinDF['INVOICE_AMT_REPORT_CURRENCY'] >= int(RISK_CUTOFF)]"
   ]
  },
  {
   "cell_type": "code",
   "execution_count": 16,
   "metadata": {},
   "outputs": [],
   "source": [
    "# Sort the result\n",
    "finalReport = report.sort_values('INVOICE_AMT_REPORT_CURRENCY', ascending=True)"
   ]
  },
  {
   "cell_type": "code",
   "execution_count": 17,
   "metadata": {},
   "outputs": [],
   "source": [
    "# Export the resulting report\n",
    "finalReport.to_csv(r'./../output/A9_Report.csv', index=False)"
   ]
  }
 ],
 "metadata": {
  "kernelspec": {
   "display_name": "Python 3",
   "language": "python",
   "name": "python3"
  },
  "language_info": {
   "codemirror_mode": {
    "name": "ipython",
    "version": 3
   },
   "file_extension": ".py",
   "mimetype": "text/x-python",
   "name": "python",
   "nbconvert_exporter": "python",
   "pygments_lexer": "ipython3",
   "version": "3.6.4"
  }
 },
 "nbformat": 4,
 "nbformat_minor": 2
}
