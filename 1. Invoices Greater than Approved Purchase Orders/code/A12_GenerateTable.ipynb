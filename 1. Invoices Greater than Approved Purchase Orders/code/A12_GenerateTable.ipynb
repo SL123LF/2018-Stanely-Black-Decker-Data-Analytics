{
 "cells": [
  {
   "cell_type": "markdown",
   "metadata": {},
   "source": [
    "## Analytic 12 Code\n",
    "\n",
    "#### OPIM5770 | Fall 2018 | Team 4\n",
    "\n",
    "###### This notebook contains code to generate file necessary for input to analytic 12. Designed by Team 4."
   ]
  },
  {
   "cell_type": "code",
   "execution_count": 1,
   "metadata": {},
   "outputs": [],
   "source": [
    "# Import required modules\n",
    "import pandas as pd\n",
    "import numpy as np\n",
    "import csv\n",
    "import os"
   ]
  },
  {
   "cell_type": "code",
   "execution_count": 3,
   "metadata": {},
   "outputs": [],
   "source": [
    "# Load the RSEG_RBKP file\n",
    "RSEG_RBKP_DF = pd.read_csv(r'./../../src/RSEG_RBKP.csv'\n",
    "                         , usecols=[ \n",
    "                             'Company_Code'\n",
    "                             , 'Purchasing_Document_Number'\n",
    "                             , 'Item_Number_of_Purchasing_Document'\n",
    "                             , 'Amount_in_Document_Currency'\n",
    "                             , 'Document_Number_of_an_Invoice_Document'\n",
    "                             , 'Document_Item_in_Invoice_Document'\n",
    "                             , 'Quantity'\n",
    "                             ]\n",
    "                         , dtype={\n",
    "                                'Company_Code':str\n",
    "                                , 'Purchasing_Document_Number':str\n",
    "                                , 'Item_Number_of_Purchasing_Document':str\n",
    "                                , 'Amount_in_Document_Currency':float\n",
    "                                , 'Accounting_Document_Number':str\n",
    "                                , 'Document_Number_of_an_Invoice_Document':str\n",
    "                                , 'Document_Item_in_Invoice_Document':str\n",
    "                                , 'Quantity':float\n",
    "                               }\n",
    "                         , low_memory=False\n",
    "                        )\n",
    "\n",
    "\n",
    "\n",
    "RSEG_RBKP_DF.rename(columns=\n",
    "                      {\n",
    "                          'Company_Code':'COMPANY_CODE'\n",
    "                          , 'Purchasing_Document_Number':'PO_NUMBER'\n",
    "                          , 'Item_Number_of_Purchasing_Document':'PO_LINE_NUMBER'\n",
    "                          , 'Amount_in_Document_Currency':'INVOICE_AMOUNT'\n",
    "                          , 'Document_Number_of_an_Invoice_Document':'INVOICE_NUMBER'\n",
    "                          , 'Document_Item_in_Invoice_Document':'INVOICE_LINE_NUMBER'\n",
    "                          , 'Quantity':'QUANTITY'\n",
    "                      },inplace=True) "
   ]
  },
  {
   "cell_type": "code",
   "execution_count": 4,
   "metadata": {},
   "outputs": [],
   "source": [
    "# Need to perform operations so that this table can be joined to EKPO_EKKO\n",
    "RSEG_RBKP_DF['PO_NUMBER'] = RSEG_RBKP_DF['PO_NUMBER'].apply(lambda x: x.zfill(10))\n",
    "RSEG_RBKP_DF['PO_LINE_NUMBER'] = RSEG_RBKP_DF['PO_LINE_NUMBER'].apply(lambda x: x.zfill(5))"
   ]
  },
  {
   "cell_type": "code",
   "execution_count": 5,
   "metadata": {},
   "outputs": [],
   "source": [
    "# Need to filter out values that are causing duplicates (i.e., cancelled)\n",
    "RSEG_RBKP_DF = RSEG_RBKP_DF[RSEG_RBKP_DF['QUANTITY']>0]"
   ]
  },
  {
   "cell_type": "code",
   "execution_count": 6,
   "metadata": {},
   "outputs": [],
   "source": [
    "# Many invoices cover the aggregate of line items on a purchase order, need to aggregate to avoid misleading results\n",
    "RSEG_RBKP_DF = RSEG_RBKP_DF.groupby(['COMPANY_CODE','PO_NUMBER','PO_LINE_NUMBER','INVOICE_NUMBER','INVOICE_LINE_NUMBER'], as_index=False)['INVOICE_AMOUNT'].sum()\n",
    "\n",
    "# Example for Unit Testing: PO Number 0000064583 and PO Line Number 00060"
   ]
  },
  {
   "cell_type": "code",
   "execution_count": 12,
   "metadata": {},
   "outputs": [],
   "source": [
    "# Load the EKPO_EKKO file\n",
    "parse_dates = [ 'Purchasing_Document_Date']\n",
    "EKPO_EKKO_DF = pd.read_csv(r'./../../src/EKPO_EKKO.csv'\n",
    "                        , sep=\"|\"\n",
    "                        , quotechar=\"'\"\n",
    "                        , low_memory=False\n",
    "                        , encoding='latin1'\n",
    "                        , usecols=['Purchasing_Document_Number',# Purchase Order Number\n",
    "                                   'Item_Number_of_Purchasing_Document',# Purchase Order Line Number\n",
    "                                   'Purchasing_Document_Date', # Purchase Order Date\n",
    "                                   'Net_Order_Value_in_PO_Currency',#Purchase Order Amount\n",
    "                                   'Vendor_Account_Number',\n",
    "                                   'Purchasing_Document_Date',\n",
    "                                 ],\n",
    "                         dtype={'Purchasing_Document_Number':str,\n",
    "                                'Item_Number_of_Purchasing_Document':str,\n",
    "                                'Purchasing_Document_Date':str,\n",
    "                                'Net_Order_Value_in_PO_Currency':str,\n",
    "                                'Vendor_Account_Number':str,\n",
    "                                'Purchasing_Document_Date':str\n",
    "                               },\n",
    "                          parse_dates=parse_dates)\n",
    "\n",
    "EKPO_EKKO_DF.rename(columns=\n",
    "                    { 'Purchasing_Document_Number':'PO_NUMBER',\n",
    "                      'Item_Number_of_Purchasing_Document':'PO_LINE_NUMBER',\n",
    "                      'Purchasing_Document_Date':'PO_CREATE_DATE',\n",
    "                      'Net_Order_Value_in_PO_Currency':'PO_AMOUNT',\n",
    "                      'Vendor_Account_Number':'VENDOR_ID',\n",
    "                      'Purchasing_Document_Date':'PO_DATE'\n",
    "                    },inplace=True)"
   ]
  },
  {
   "cell_type": "code",
   "execution_count": null,
   "metadata": {},
   "outputs": [],
   "source": []
  },
  {
   "cell_type": "code",
   "execution_count": 16,
   "metadata": {},
   "outputs": [
    {
     "data": {
      "text/html": [
       "<div>\n",
       "<style scoped>\n",
       "    .dataframe tbody tr th:only-of-type {\n",
       "        vertical-align: middle;\n",
       "    }\n",
       "\n",
       "    .dataframe tbody tr th {\n",
       "        vertical-align: top;\n",
       "    }\n",
       "\n",
       "    .dataframe thead th {\n",
       "        text-align: right;\n",
       "    }\n",
       "</style>\n",
       "<table border=\"1\" class=\"dataframe\">\n",
       "  <thead>\n",
       "    <tr style=\"text-align: right;\">\n",
       "      <th></th>\n",
       "      <th>COMPANY_CODE</th>\n",
       "      <th>PO_NUMBER</th>\n",
       "      <th>PO_LINE_NUMBER</th>\n",
       "      <th>INVOICE_NUMBER</th>\n",
       "      <th>INVOICE_LINE_NUMBER</th>\n",
       "      <th>INVOICE_AMOUNT</th>\n",
       "      <th>PO_AMOUNT</th>\n",
       "      <th>VENDOR_ID</th>\n",
       "      <th>PO_DATE</th>\n",
       "    </tr>\n",
       "  </thead>\n",
       "  <tbody>\n",
       "    <tr>\n",
       "      <th>0</th>\n",
       "      <td>1001</td>\n",
       "      <td>0000064272</td>\n",
       "      <td>00010</td>\n",
       "      <td>5190004049</td>\n",
       "      <td>000001</td>\n",
       "      <td>1.66</td>\n",
       "      <td>1.66</td>\n",
       "      <td>0020008131</td>\n",
       "      <td>2018-01-02</td>\n",
       "    </tr>\n",
       "    <tr>\n",
       "      <th>1</th>\n",
       "      <td>1001</td>\n",
       "      <td>0000064273</td>\n",
       "      <td>00010</td>\n",
       "      <td>5190002485</td>\n",
       "      <td>000001</td>\n",
       "      <td>31.94</td>\n",
       "      <td>31.94</td>\n",
       "      <td>0020008131</td>\n",
       "      <td>2018-01-02</td>\n",
       "    </tr>\n",
       "    <tr>\n",
       "      <th>2</th>\n",
       "      <td>1001</td>\n",
       "      <td>0000064291</td>\n",
       "      <td>00010</td>\n",
       "      <td>5190006464</td>\n",
       "      <td>000001</td>\n",
       "      <td>40.00</td>\n",
       "      <td>40.04</td>\n",
       "      <td>0020008131</td>\n",
       "      <td>2018-01-04</td>\n",
       "    </tr>\n",
       "    <tr>\n",
       "      <th>3</th>\n",
       "      <td>1001</td>\n",
       "      <td>0000064292</td>\n",
       "      <td>00010</td>\n",
       "      <td>5190005420</td>\n",
       "      <td>000001</td>\n",
       "      <td>10.36</td>\n",
       "      <td>10.36</td>\n",
       "      <td>0020008131</td>\n",
       "      <td>2018-01-05</td>\n",
       "    </tr>\n",
       "    <tr>\n",
       "      <th>4</th>\n",
       "      <td>1001</td>\n",
       "      <td>0000064293</td>\n",
       "      <td>00010</td>\n",
       "      <td>5190006379</td>\n",
       "      <td>000001</td>\n",
       "      <td>36.96</td>\n",
       "      <td>36.96</td>\n",
       "      <td>0020008131</td>\n",
       "      <td>2018-01-09</td>\n",
       "    </tr>\n",
       "  </tbody>\n",
       "</table>\n",
       "</div>"
      ],
      "text/plain": [
       "  COMPANY_CODE   PO_NUMBER PO_LINE_NUMBER INVOICE_NUMBER INVOICE_LINE_NUMBER  \\\n",
       "0         1001  0000064272          00010     5190004049              000001   \n",
       "1         1001  0000064273          00010     5190002485              000001   \n",
       "2         1001  0000064291          00010     5190006464              000001   \n",
       "3         1001  0000064292          00010     5190005420              000001   \n",
       "4         1001  0000064293          00010     5190006379              000001   \n",
       "\n",
       "   INVOICE_AMOUNT  PO_AMOUNT   VENDOR_ID    PO_DATE  \n",
       "0            1.66       1.66  0020008131 2018-01-02  \n",
       "1           31.94      31.94  0020008131 2018-01-02  \n",
       "2           40.00      40.04  0020008131 2018-01-04  \n",
       "3           10.36      10.36  0020008131 2018-01-05  \n",
       "4           36.96      36.96  0020008131 2018-01-09  "
      ]
     },
     "execution_count": 16,
     "metadata": {},
     "output_type": "execute_result"
    }
   ],
   "source": [
    "joinDF.head()"
   ]
  },
  {
   "cell_type": "code",
   "execution_count": 13,
   "metadata": {},
   "outputs": [],
   "source": [
    "# We need to remove 'X' values in the amount field\n",
    "EKPO_EKKO_DF = EKPO_EKKO_DF[EKPO_EKKO_DF['PO_AMOUNT']!='']\n",
    "EKPO_EKKO_DF = EKPO_EKKO_DF[EKPO_EKKO_DF['PO_AMOUNT']!='X']\n",
    "EKPO_EKKO_DF.PO_AMOUNT = EKPO_EKKO_DF.PO_AMOUNT.astype(float).fillna(0.0)"
   ]
  },
  {
   "cell_type": "code",
   "execution_count": 14,
   "metadata": {},
   "outputs": [],
   "source": [
    "# PERFORM THE JOIN OPERATION\n",
    "joinDF = pd.merge( left = RSEG_RBKP_DF,\n",
    "                   right = EKPO_EKKO_DF,\n",
    "                   left_on = ['PO_NUMBER','PO_LINE_NUMBER'],\n",
    "                   right_on = ['PO_NUMBER','PO_LINE_NUMBER'],\n",
    "                   how='inner')"
   ]
  },
  {
   "cell_type": "code",
   "execution_count": 15,
   "metadata": {},
   "outputs": [],
   "source": [
    "# WRITE OUT THE RESULTS TO FILE\n",
    "joinDF.to_csv(r'./../output/A12_Base.csv', index=False)"
   ]
  },
  {
   "cell_type": "markdown",
   "metadata": {},
   "source": [
    "### Data Quality Acknowledgement"
   ]
  },
  {
   "cell_type": "markdown",
   "metadata": {},
   "source": [
    "##### As of 10/31/18, we have asked two questions regarding the proper method to join purchase order information on EKPO_EKKO to BSAK_BKPF. We have tried to use the EKBE table as recommended in SAP documentation, focusing on fields that are common between the two tables. However, purchase order and purchase line number are not key fields and are not unique. Additionally, the reference document number on EKBE only joins to BSAK_BKPF in <30% of cases. The result is a very misleading table. \n",
    "\n",
    "##### As an approximate to demonstrate some value from the analytic, we leverage here the incoming invoice information on RSEG_RBKP as discussed during our check points early in the semester. If information regarding join fields for the PO-Cleared Invoice connection are answered, we will write the corresponding code and update this analytic with the correct code base.\n",
    "\n",
    "##### For reference, Purchasing Document Number 63492, Line Number 1280 contains two entries on EKBE with different PO amounts and no reference document. Another example would be 64019 Line Number 30. We believe this data is correct; however, we believe we may be lacking key fields to reduce duplicate PO/Line combinations, resulting in very misleading values."
   ]
  }
 ],
 "metadata": {
  "kernelspec": {
   "display_name": "Python 3",
   "language": "python",
   "name": "python3"
  },
  "language_info": {
   "codemirror_mode": {
    "name": "ipython",
    "version": 3
   },
   "file_extension": ".py",
   "mimetype": "text/x-python",
   "name": "python",
   "nbconvert_exporter": "python",
   "pygments_lexer": "ipython3",
   "version": "3.6.4"
  }
 },
 "nbformat": 4,
 "nbformat_minor": 2
}
