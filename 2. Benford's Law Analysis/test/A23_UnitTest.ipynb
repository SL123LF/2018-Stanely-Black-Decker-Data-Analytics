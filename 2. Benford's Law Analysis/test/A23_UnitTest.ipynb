{
 "cells": [
  {
   "cell_type": "markdown",
   "metadata": {},
   "source": [
    "## Analytic 23 Unit Test Code\n",
    "\n",
    "#### OPIM5770 | Fall 2018 | Team 4\n",
    "\n",
    "###### This notebook contains code to the output results analytic 23. Designed by Team 4. More integrated testing than unit testing."
   ]
  },
  {
   "cell_type": "code",
   "execution_count": 1,
   "metadata": {},
   "outputs": [],
   "source": [
    "# Import necessary modules\n",
    "import unittest\n",
    "import pandas as pd"
   ]
  },
  {
   "cell_type": "code",
   "execution_count": 8,
   "metadata": {},
   "outputs": [],
   "source": [
    "# Load the result file for Analytic 23\n",
    "A23_Base_DF = pd.read_csv(r'./../output/A23_Base.csv', low_memory=False)\n",
    "A23_Viz_DF = pd.read_csv(r'./../output/A23_VizTable.csv', low_memory=False)\n",
    "A23_ReportDtl_DF = pd.read_csv(r'./../output/A23_ReportDtl.csv', low_memory=False)"
   ]
  },
  {
   "cell_type": "code",
   "execution_count": 29,
   "metadata": {},
   "outputs": [],
   "source": [
    "# Load the primary base table for Analytic 23\n",
    "BSAK_BKPF_DF = pd.read_csv(r'./../../src/BSAK_BKPF.csv' \n",
    "                           , sep=\"|\"\n",
    "                           , quotechar=\"'\"\n",
    "                           , low_memory=False\n",
    "                           , encoding='latin1'\n",
    "                           , usecols = [ \n",
    "                                     'Company_Code',\n",
    "                                     'Account_Number_of_Vendor_or_Creditor',\n",
    "                                     'Reference_Document_Number',\n",
    "                                     'Accounting_Document_Number',\n",
    "                                     'Document_Type',\n",
    "                                     'Number_of_Line_Item_Within_Accounting_Document',\n",
    "                                     'Document_Number_of_the_Clearing_Document',\n",
    "                                     'Reference_Document_Number',\n",
    "                                     'Fiscal_Year',\n",
    "                                     'Document_Date_in_Document',\n",
    "                                     'Clearing_Date',\n",
    "                                     'Day_On_Which_Accounting_Document_Was_Entered',\n",
    "                                     'Debit_Credit_Indicator',\n",
    "                                     'Currency_Key',\n",
    "                                     'Amount_in_Document_Currency',\n",
    "                                     'Amount_in_Local_Currency',\n",
    "                                     'Reverse_Document_Number'\n",
    "                                     ]\n",
    "                           , dtype = { \n",
    "                                     'Company_Code': str,\n",
    "                                     'Account_Number_of_Vendor_or_Creditor': str,\n",
    "                                     'Reference_Document_Number': str,\n",
    "                                     'Accounting_Document_Number': str,\n",
    "                                     'Document_Type': str, \n",
    "                                     'Number_of_Line_Item_Within_Accounting_Document':int,\n",
    "                                     'Document_Number_of_the_Clearing_Document': str,\n",
    "                                     'Reference_Document_Number':str,\n",
    "                                     'Fiscal_Year':int,\n",
    "                                     'Document_Date_in_Document':str, # REQUIRES DATE PARSING\n",
    "                                     'Clearing_Date': str, # REQUIRES DATE PARSING\n",
    "                                     'Day_On_Which_Accounting_Document_Was_Entered': str, #REQUIRES DATE PARSING\n",
    "                                     'Debit_Credit_Indicator': str,\n",
    "                                     'Currency_Key':str,\n",
    "                                     'Amount_in_Document_Currency': float,\n",
    "                                     'Amount_in_Local_Currency':float,\n",
    "                                     'Reverse_Document_Number':str\n",
    "                                   })\n",
    "\n",
    "BSAK_BKPF_DF.rename(columns=\n",
    "          {\n",
    "              'Company_Code': 'COMPANY_CODE',\n",
    "              'Account_Number_of_Vendor_or_Creditor': 'VENDOR_ID',\n",
    "              'Reference_Document_Number': 'VENDOR_INVOICE_NUMBER',\n",
    "              'Accounting_Document_Number': 'ACCOUNTING_DOC_NUM',\n",
    "              'Document_Type': 'DOCUMENT_TYPE',\n",
    "              'Number_of_Line_Item_Within_Accounting_Document':'LINE_ITEM_ACCT_DOC_NUM',\n",
    "              'Document_Number_of_the_Clearing_Document':'CLEARING_DOC_NUM',\n",
    "              'Reference_Document_Number': 'REFERENCE_DOC_NBR',\n",
    "              'Fiscal_Year': 'FISCAL_YEAR',\n",
    "              'Document_Date_in_Document': 'DOCUMENT_DATE',\n",
    "              'Clearing_Date': 'CLEARING_DATE',\n",
    "              'Day_On_Which_Accounting_Document_Was_Entered': 'DAY_DOC_ENTERED',\n",
    "              'Debit_Credit_Indicator': 'DR_CR_INDICATOR',\n",
    "              'Currency_Key': 'DOC_CURRENCY_INDICATOR',\n",
    "              'Amount_in_Document_Currency': 'INVOICE_AMT_DOC_CURRENCY',\n",
    "              'Amount_in_Local_Currency': 'INVOICE_AMT_REPORT_CURRENCY',\n",
    "              'Reverse_Document_Number': 'REVERSE_DOC_NBR',\n",
    "          }, inplace=True)"
   ]
  },
  {
   "cell_type": "code",
   "execution_count": null,
   "metadata": {},
   "outputs": [],
   "source": [
    "# Filter out unnecessary data types\n",
    "BSAK_BKPF_DF = BSAK_BKPF_DF[BSAK_BKPF_DF['DOCUMENT_TYPE'] != 'ZP']\n",
    "BSAK_BKPF_DF = BSAK_BKPF_DF[BSAK_BKPF_DF['DOCUMENT_TYPE'] != 'KZ']"
   ]
  },
  {
   "cell_type": "code",
   "execution_count": 27,
   "metadata": {},
   "outputs": [],
   "source": [
    "# Construct Unit Test class\n",
    "import unittest\n",
    "\n",
    "class TestStringMethods(unittest.TestCase):\n",
    "    \n",
    "    # Test 1: Validate result records match BSAK_BKPF file\n",
    "    def test_base_records(self):\n",
    "        source_record_count = BSAK_BKPF_DF.shape[0]\n",
    "        A23_base_record_count = A23_Base_DF.shape[0]\n",
    "        self.assertEqual(A23_base_record_count, source_record_count)\n",
    "        \n",
    "     # Test 2: Validate visualization result records match BSAK_BKPF file\n",
    "    def test_viz_records(self):\n",
    "        source_record_count = BSAK_BKPF_DF.shape[0]\n",
    "        A23_viz_record_count = A23_Viz_DF.shape[0]\n",
    "        self.assertEqual(A23_viz_record_count, source_record_count)\n",
    "        \n",
    "     # Test 3: Validate detailed report counts match BSAK_BKPF file\n",
    "    def test_detailed_report_records(self):\n",
    "        source_record_count = BSAK_BKPF_DF.shape[0]\n",
    "        A23_dtl_record_count = A23_ReportDtl_DF.VENDOR_FIRST_DIGIT_COUNT.sum()\n",
    "        self.assertEqual(A23_dtl_record_count , source_record_count)"
   ]
  },
  {
   "cell_type": "code",
   "execution_count": 28,
   "metadata": {},
   "outputs": [
    {
     "name": "stderr",
     "output_type": "stream",
     "text": [
      "...\n",
      "----------------------------------------------------------------------\n",
      "Ran 3 tests in 0.007s\n",
      "\n",
      "OK\n"
     ]
    }
   ],
   "source": [
    "# Execute unit tests and view results\n",
    "if __name__ == '__main__':\n",
    "    unittest.main(argv=['first-arg-is-ignored'], exit=False)"
   ]
  }
 ],
 "metadata": {
  "kernelspec": {
   "display_name": "Python 3",
   "language": "python",
   "name": "python3"
  },
  "language_info": {
   "codemirror_mode": {
    "name": "ipython",
    "version": 3
   },
   "file_extension": ".py",
   "mimetype": "text/x-python",
   "name": "python",
   "nbconvert_exporter": "python",
   "pygments_lexer": "ipython3",
   "version": "3.6.4"
  }
 },
 "nbformat": 4,
 "nbformat_minor": 2
}
